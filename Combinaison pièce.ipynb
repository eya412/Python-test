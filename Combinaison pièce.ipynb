{
 "cells": [
  {
   "cell_type": "code",
   "execution_count": 131,
   "metadata": {},
   "outputs": [],
   "source": [
    "import numpy as np    "
   ]
  },
  {
   "cell_type": "code",
   "execution_count": 132,
   "metadata": {},
   "outputs": [],
   "source": [
    "piece=[1, 2, 5, 10, 20, 50, 100] #contient les differentes valeurs des pièces (en exluant 200)\n",
    "M= np.zeros((len(piece),201)) #Matrice qui sert à calculer à chaque fois combien de façon on peut avoir une somme <=200\n",
    "M[:,0]=1 #On initialise la 1ere colonne de cette matrice par 1 car toujours il y une seul façon d'avoir 0€ et c'est en donnant plus rien"
   ]
  },
  {
   "cell_type": "code",
   "execution_count": 134,
   "metadata": {},
   "outputs": [
    {
     "name": "stdout",
     "output_type": "stream",
     "text": [
      "Il y  2017639192.0 combinaisons possibles pour atteindre 2€ en utilisant autant de pièces que l'on veut.\n"
     ]
    }
   ],
   "source": [
    "for i in range(len(piece)):\n",
    "    for j in range(201):\n",
    "        if piece[i]>j:\n",
    "            M[i][j]= M[i-1][j]\n",
    "        else:\n",
    "            M[i][j]= M[i-1][j]+M[i][j-piece[i]]\n",
    "somme= M[-1,-1]\n",
    "print(\"Il y \",somme+1,\"combinaisons possibles pour atteindre 2€ en utilisant autant de pièces que l'on veut.\")\n",
    "#J'ai ajouté 1 pour la pièce 2"
   ]
  }
 ],
 "metadata": {
  "kernelspec": {
   "display_name": "Python 3",
   "language": "python",
   "name": "python3"
  },
  "language_info": {
   "codemirror_mode": {
    "name": "ipython",
    "version": 3
   },
   "file_extension": ".py",
   "mimetype": "text/x-python",
   "name": "python",
   "nbconvert_exporter": "python",
   "pygments_lexer": "ipython3",
   "version": "3.7.6"
  }
 },
 "nbformat": 4,
 "nbformat_minor": 4
}
